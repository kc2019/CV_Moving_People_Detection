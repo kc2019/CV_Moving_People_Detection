{
 "cells": [
  {
   "cell_type": "code",
   "execution_count": 47,
   "metadata": {},
   "outputs": [],
   "source": [
    "# Pedestrian detection (full body) from a streaming video\n",
    "import numpy as np\n",
    "import cv2"
   ]
  },
  {
   "cell_type": "code",
   "execution_count": 48,
   "metadata": {},
   "outputs": [],
   "source": [
    "# Create our body classifier\n",
    "body_cascade = cv2.CascadeClassifier(r'D:\\KUNTAL\\Python\\python_notes\\Image_Processing\\haarcascade_fullbody.xml')\n"
   ]
  },
  {
   "cell_type": "code",
   "execution_count": 49,
   "metadata": {},
   "outputs": [
    {
     "data": {
      "text/plain": [
       "True"
      ]
     },
     "execution_count": 49,
     "metadata": {},
     "output_type": "execute_result"
    }
   ],
   "source": [
    "# Initiate video capture for video file\n",
    "cap = cv2.VideoCapture(r'D:\\KUNTAL\\Python\\python_notes\\Image_Processing\\video\\People_Shopping_Mall.mp4')\n",
    "cap.isOpened()  # True = read video successfully. False - fail to read video."
   ]
  },
  {
   "cell_type": "code",
   "execution_count": 50,
   "metadata": {},
   "outputs": [],
   "source": [
    "# Loop once video is successfully loaded\n",
    "while True:\n",
    "      # Read first frame\n",
    "        ret, frame = cap.read()\n",
    "      # convert to gray scale of each frames  \n",
    "        gray = cv2.cvtColor(frame, cv2.COLOR_BGR2GRAY)  \n",
    "        \n",
    "      # Pass frame to our body classifier\n",
    "        #bodies = body_cascade.detectMultiScale(gray, 1.1, 3)\n",
    "        bodies = body_cascade.detectMultiScale(gray, 1.1, 3)\n",
    "    \n",
    "      # Extract bounding boxes for any bodies identified\n",
    "        for (x,y,w,h) in bodies:\n",
    "            cv2.rectangle(frame, (x, y), (x+w, y+h), (0, 255, 255), 2)\n",
    "            cv2.namedWindow(\"Moving People\", cv2.WND_PROP_FULLSCREEN)\n",
    "            cv2.imshow('Moving People', frame)\n",
    "    \n",
    "        if cv2.waitKey(33) == 27: #27 is the Escape Key\n",
    "            break\n",
    "\n",
    "#cap.release()\n",
    "cv2.destroyAllWindows()\n",
    "    "
   ]
  },
  {
   "cell_type": "code",
   "execution_count": null,
   "metadata": {},
   "outputs": [],
   "source": []
  }
 ],
 "metadata": {
  "kernelspec": {
   "display_name": "Python 3",
   "language": "python",
   "name": "python3"
  },
  "language_info": {
   "codemirror_mode": {
    "name": "ipython",
    "version": 3
   },
   "file_extension": ".py",
   "mimetype": "text/x-python",
   "name": "python",
   "nbconvert_exporter": "python",
   "pygments_lexer": "ipython3",
   "version": "3.7.4"
  }
 },
 "nbformat": 4,
 "nbformat_minor": 2
}
